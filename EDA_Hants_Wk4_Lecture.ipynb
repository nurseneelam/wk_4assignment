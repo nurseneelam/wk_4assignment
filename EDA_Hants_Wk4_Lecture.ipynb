{
  "nbformat": 4,
  "nbformat_minor": 0,
  "metadata": {
    "colab": {
      "name": "EDA_Hants_Wk4_Lecture.ipynb",
      "provenance": [],
      "collapsed_sections": []
    },
    "kernelspec": {
      "name": "python3",
      "display_name": "Python 3"
    }
  },
  "cells": [
    {
      "cell_type": "code",
      "metadata": {
        "id": "g4I2TLVLb0rA",
        "colab_type": "code",
        "colab": {
          "resources": {
            "http://localhost:8080/nbextensions/google.colab/files.js": {
              "data": "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",
              "ok": true,
              "headers": [
                [
                  "content-type",
                  "application/javascript"
                ]
              ],
              "status": 200,
              "status_text": ""
            }
          },
          "base_uri": "https://localhost:8080/",
          "height": 72
        },
        "outputId": "54a5acd8-f557-4b86-86f8-2b86726958ce"
      },
      "source": [
        "from google.colab import files\n",
        "uploaded = files.upload()"
      ],
      "execution_count": null,
      "outputs": [
        {
          "output_type": "display_data",
          "data": {
            "text/html": [
              "\n",
              "     <input type=\"file\" id=\"files-b2f9defc-c43c-4c0f-aa78-eca1a490f9e7\" name=\"files[]\" multiple disabled\n",
              "        style=\"border:none\" />\n",
              "     <output id=\"result-b2f9defc-c43c-4c0f-aa78-eca1a490f9e7\">\n",
              "      Upload widget is only available when the cell has been executed in the\n",
              "      current browser session. Please rerun this cell to enable.\n",
              "      </output>\n",
              "      <script src=\"/nbextensions/google.colab/files.js\"></script> "
            ],
            "text/plain": [
              "<IPython.core.display.HTML object>"
            ]
          },
          "metadata": {
            "tags": []
          }
        },
        {
          "output_type": "stream",
          "text": [
            "Saving simple_file_name_utf8.csv to simple_file_name_utf8 (1).csv\n"
          ],
          "name": "stdout"
        }
      ]
    },
    {
      "cell_type": "code",
      "metadata": {
        "id": "MMnjWCFLd2Aw",
        "colab_type": "code",
        "colab": {}
      },
      "source": [
        "import io\n",
        "import pandas as pd\n",
        "df = pd.read_csv(io.BytesIO(uploaded['simple_file_name_utf8.csv']))"
      ],
      "execution_count": null,
      "outputs": []
    },
    {
      "cell_type": "markdown",
      "metadata": {
        "id": "aPWxVGtJk_4Y",
        "colab_type": "text"
      },
      "source": [
        "Look like a STACKED dataframe \n",
        "\n",
        "Need to deal with issues r/t 'Hospital' column - how do we treat 'Statewide' value \n",
        "\n",
        "For COUNTY = AAAA // will want to exclude \n",
        "\n",
        "... HOW DO WE CLEAN THIS // \n",
        "Potential issue with 'Hospital' string column -> Alta Bates Summit Medical Center ‚Äì\n",
        "\n",
        "- Shoudl we transform YEAR to something clearner \n",
        "\n",
        "Create 2 new variables for GPS -> 1 column that is LAT another being LON \n",
        "\n",
        "- NEED TO HARD CODE ERRORS WITH 2013 on AAAA county for Deaths/Cases \n"
      ]
    },
    {
      "cell_type": "code",
      "metadata": {
        "id": "z1kjFA2x52mG",
        "colab_type": "code",
        "colab": {}
      },
      "source": [
        ""
      ],
      "execution_count": null,
      "outputs": []
    },
    {
      "cell_type": "code",
      "metadata": {
        "id": "0hkKivr4iA-U",
        "colab_type": "code",
        "colab": {
          "base_uri": "https://localhost:8080/",
          "height": 306
        },
        "outputId": "8b436c72-247f-47fe-fdb5-09b5f959b7fa"
      },
      "source": [
        "df.head(5)"
      ],
      "execution_count": null,
      "outputs": [
        {
          "output_type": "execute_result",
          "data": {
            "text/html": [
              "<div>\n",
              "<style scoped>\n",
              "    .dataframe tbody tr th:only-of-type {\n",
              "        vertical-align: middle;\n",
              "    }\n",
              "\n",
              "    .dataframe tbody tr th {\n",
              "        vertical-align: top;\n",
              "    }\n",
              "\n",
              "    .dataframe thead th {\n",
              "        text-align: right;\n",
              "    }\n",
              "</style>\n",
              "<table border=\"1\" class=\"dataframe\">\n",
              "  <thead>\n",
              "    <tr style=\"text-align: right;\">\n",
              "      <th></th>\n",
              "      <th>Year</th>\n",
              "      <th>County</th>\n",
              "      <th>Hospital</th>\n",
              "      <th>OSHPDID</th>\n",
              "      <th>Measure</th>\n",
              "      <th>Risk Adjusted Rate</th>\n",
              "      <th># of Deaths/Readmissions</th>\n",
              "      <th># of Cases</th>\n",
              "      <th>Hospital Ratings</th>\n",
              "      <th>Location 1</th>\n",
              "    </tr>\n",
              "  </thead>\n",
              "  <tbody>\n",
              "    <tr>\n",
              "      <th>0</th>\n",
              "      <td>2011-2012</td>\n",
              "      <td>NaN</td>\n",
              "      <td>Statewide</td>\n",
              "      <td>NaN</td>\n",
              "      <td>30-day Mortality</td>\n",
              "      <td>10.55</td>\n",
              "      <td>7406.0</td>\n",
              "      <td>70213.0</td>\n",
              "      <td>NaN</td>\n",
              "      <td>NaN</td>\n",
              "    </tr>\n",
              "    <tr>\n",
              "      <th>1</th>\n",
              "      <td>2011-2012</td>\n",
              "      <td>NaN</td>\n",
              "      <td>Statewide</td>\n",
              "      <td>NaN</td>\n",
              "      <td>30-day Readmission</td>\n",
              "      <td>12.80</td>\n",
              "      <td>8527.0</td>\n",
              "      <td>66612.0</td>\n",
              "      <td>NaN</td>\n",
              "      <td>NaN</td>\n",
              "    </tr>\n",
              "    <tr>\n",
              "      <th>2</th>\n",
              "      <td>2011-2012</td>\n",
              "      <td>Alameda</td>\n",
              "      <td>Alameda Hospital</td>\n",
              "      <td>106010735</td>\n",
              "      <td>30-day Readmission</td>\n",
              "      <td>18.66</td>\n",
              "      <td>18.0</td>\n",
              "      <td>92.0</td>\n",
              "      <td>As Expected</td>\n",
              "      <td>(37.762953, -122.25362)</td>\n",
              "    </tr>\n",
              "    <tr>\n",
              "      <th>3</th>\n",
              "      <td>2011-2012</td>\n",
              "      <td>Alameda</td>\n",
              "      <td>Alameda Hospital</td>\n",
              "      <td>106010735</td>\n",
              "      <td>30-day Mortality</td>\n",
              "      <td>12.22</td>\n",
              "      <td>12.0</td>\n",
              "      <td>95.0</td>\n",
              "      <td>As Expected</td>\n",
              "      <td>(37.762953, -122.25362)</td>\n",
              "    </tr>\n",
              "    <tr>\n",
              "      <th>4</th>\n",
              "      <td>2011-2012</td>\n",
              "      <td>Alameda</td>\n",
              "      <td>Alta Bates Summit Medical Center ‚Äì Alta Bate...</td>\n",
              "      <td>106010739</td>\n",
              "      <td>30-day Readmission</td>\n",
              "      <td>11.91</td>\n",
              "      <td>34.0</td>\n",
              "      <td>281.0</td>\n",
              "      <td>As Expected</td>\n",
              "      <td>(37.85633, -122.25784)</td>\n",
              "    </tr>\n",
              "  </tbody>\n",
              "</table>\n",
              "</div>"
            ],
            "text/plain": [
              "        Year   County  ... Hospital Ratings               Location 1\n",
              "0  2011-2012      NaN  ...              NaN                      NaN\n",
              "1  2011-2012      NaN  ...              NaN                      NaN\n",
              "2  2011-2012  Alameda  ...      As Expected  (37.762953, -122.25362)\n",
              "3  2011-2012  Alameda  ...      As Expected  (37.762953, -122.25362)\n",
              "4  2011-2012  Alameda  ...      As Expected   (37.85633, -122.25784)\n",
              "\n",
              "[5 rows x 10 columns]"
            ]
          },
          "metadata": {
            "tags": []
          },
          "execution_count": 37
        }
      ]
    },
    {
      "cell_type": "code",
      "metadata": {
        "id": "ma3eLjx6vtww",
        "colab_type": "code",
        "colab": {}
      },
      "source": [
        ""
      ],
      "execution_count": null,
      "outputs": []
    },
    {
      "cell_type": "code",
      "metadata": {
        "id": "RWWQk26Avuun",
        "colab_type": "code",
        "colab": {}
      },
      "source": [
        ""
      ],
      "execution_count": null,
      "outputs": []
    },
    {
      "cell_type": "code",
      "metadata": {
        "id": "nXEfMkFUmYS8",
        "colab_type": "code",
        "colab": {
          "base_uri": "https://localhost:8080/",
          "height": 187
        },
        "outputId": "ebc6b980-ac92-4354-d2c3-7c604f64fdbc"
      },
      "source": [
        "list(df)"
      ],
      "execution_count": null,
      "outputs": [
        {
          "output_type": "execute_result",
          "data": {
            "text/plain": [
              "['Year',\n",
              " 'County',\n",
              " 'Hospital',\n",
              " 'OSHPDID',\n",
              " 'Measure',\n",
              " 'Risk Adjusted Rate',\n",
              " '# of Deaths/Readmissions',\n",
              " '# of Cases',\n",
              " 'Hospital Ratings',\n",
              " 'Location 1']"
            ]
          },
          "metadata": {
            "tags": []
          },
          "execution_count": 32
        }
      ]
    },
    {
      "cell_type": "code",
      "metadata": {
        "id": "-ReEldzJmcBb",
        "colab_type": "code",
        "colab": {
          "base_uri": "https://localhost:8080/",
          "height": 204
        },
        "outputId": "d1740455-165a-4dd8-f77a-c16c863a5d10"
      },
      "source": [
        "df.dtypes"
      ],
      "execution_count": null,
      "outputs": [
        {
          "output_type": "execute_result",
          "data": {
            "text/plain": [
              "Year                         object\n",
              "County                       object\n",
              "Hospital                     object\n",
              "OSHPDID                      object\n",
              "Measure                      object\n",
              "Risk Adjusted Rate          float64\n",
              "# of Deaths/Readmissions    float64\n",
              "# of Cases                  float64\n",
              "Hospital Ratings             object\n",
              "Location 1                   object\n",
              "dtype: object"
            ]
          },
          "metadata": {
            "tags": []
          },
          "execution_count": 36
        }
      ]
    },
    {
      "cell_type": "code",
      "metadata": {
        "id": "BrhGimgMnbE-",
        "colab_type": "code",
        "colab": {
          "base_uri": "https://localhost:8080/",
          "height": 102
        },
        "outputId": "bffc9cee-4a9d-4467-c2be-69d294579182"
      },
      "source": [
        "df['Year'].value_counts()"
      ],
      "execution_count": null,
      "outputs": [
        {
          "output_type": "execute_result",
          "data": {
            "text/plain": [
              "2011-2012    554\n",
              "2012-2013    550\n",
              "2013-2014    550\n",
              "2014-2015    534\n",
              "Name: Year, dtype: int64"
            ]
          },
          "metadata": {
            "tags": []
          },
          "execution_count": 53
        }
      ]
    },
    {
      "cell_type": "code",
      "metadata": {
        "id": "5d2Rxdgmnv0c",
        "colab_type": "code",
        "colab": {}
      },
      "source": [
        "# Lets now re-code our 'YEAR' column into something simpler \n",
        "# Lets ASSUME that we want to keep the first year, first part only "
      ],
      "execution_count": null,
      "outputs": []
    },
    {
      "cell_type": "code",
      "metadata": {
        "id": "MsoPBvwXn7G2",
        "colab_type": "code",
        "colab": {}
      },
      "source": [
        "# WAY 1 - RECODE // by removing everything after the '-' "
      ],
      "execution_count": null,
      "outputs": []
    },
    {
      "cell_type": "code",
      "metadata": {
        "id": "GOxHQ-3roMsP",
        "colab_type": "code",
        "colab": {}
      },
      "source": [
        "# Removing everything after the '-'\n",
        "df['Year'] = df['Year'].str.split('-').str[0]\n"
      ],
      "execution_count": null,
      "outputs": []
    },
    {
      "cell_type": "code",
      "metadata": {
        "id": "SNvjZPOEoGKK",
        "colab_type": "code",
        "colab": {
          "base_uri": "https://localhost:8080/",
          "height": 221
        },
        "outputId": "fd8b9696-3b7d-44dd-bf5c-c6718806df0d"
      },
      "source": [
        "# WAY 2 - RECODE // by assigning a new value to all potential value counts \n",
        "\n",
        "def yearrecoder(row):\n",
        "    if row['Year'] == '2011-2012' : return '2011'\n",
        "    elif (row['Year'] == '2012-2013') : return '2012'\n",
        "    elif row['Year'] == '2013-2014' : return '2013'\n",
        "    elif row['Year'] == '2014-2015' : return '2014'\n",
        "\n",
        "df['Year'] = df.apply( lambda row : yearrecoder(row), axis = 1)\n",
        "df['Year']"
      ],
      "execution_count": null,
      "outputs": [
        {
          "output_type": "execute_result",
          "data": {
            "text/plain": [
              "0       2011\n",
              "1       2011\n",
              "2       2011\n",
              "3       2011\n",
              "4       2011\n",
              "        ... \n",
              "2183    2014\n",
              "2184    2014\n",
              "2185    2014\n",
              "2186    2014\n",
              "2187    2014\n",
              "Name: Year, Length: 2188, dtype: object"
            ]
          },
          "metadata": {
            "tags": []
          },
          "execution_count": 57
        }
      ]
    },
    {
      "cell_type": "code",
      "metadata": {
        "id": "lrtE0LGXq_Sm",
        "colab_type": "code",
        "colab": {
          "base_uri": "https://localhost:8080/",
          "height": 419
        },
        "outputId": "41c67371-0c53-4211-e430-8294479e76b8"
      },
      "source": [
        "dataframe_hospital = pd.DataFrame(df['Hospital'].value_counts())\n",
        "dataframe_hospital\n",
        "\n",
        "dataframe_hospital2 = dataframe_hospital\n",
        "dataframe_hospital2.columns.str.replace(r\"[^a-zA-Z\\d\\_]+\", \"\")\n",
        "dataframe_hospital2"
      ],
      "execution_count": null,
      "outputs": [
        {
          "output_type": "execute_result",
          "data": {
            "text/html": [
              "<div>\n",
              "<style scoped>\n",
              "    .dataframe tbody tr th:only-of-type {\n",
              "        vertical-align: middle;\n",
              "    }\n",
              "\n",
              "    .dataframe tbody tr th {\n",
              "        vertical-align: top;\n",
              "    }\n",
              "\n",
              "    .dataframe thead th {\n",
              "        text-align: right;\n",
              "    }\n",
              "</style>\n",
              "<table border=\"1\" class=\"dataframe\">\n",
              "  <thead>\n",
              "    <tr style=\"text-align: right;\">\n",
              "      <th></th>\n",
              "      <th>Hospital</th>\n",
              "    </tr>\n",
              "  </thead>\n",
              "  <tbody>\n",
              "    <tr>\n",
              "      <th>Garfield Medical Center</th>\n",
              "      <td>8</td>\n",
              "    </tr>\n",
              "    <tr>\n",
              "      <th>John F. Kennedy Memorial Hospital</th>\n",
              "      <td>8</td>\n",
              "    </tr>\n",
              "    <tr>\n",
              "      <th>Barstow Community Hospital</th>\n",
              "      <td>8</td>\n",
              "    </tr>\n",
              "    <tr>\n",
              "      <th>Long Beach Memorial Medical Center</th>\n",
              "      <td>8</td>\n",
              "    </tr>\n",
              "    <tr>\n",
              "      <th>Regional Medical of San Jose</th>\n",
              "      <td>8</td>\n",
              "    </tr>\n",
              "    <tr>\n",
              "      <th>...</th>\n",
              "      <td>...</td>\n",
              "    </tr>\n",
              "    <tr>\n",
              "      <th>Hazel HawkiAs Expected Memorial Hospital</th>\n",
              "      <td>2</td>\n",
              "    </tr>\n",
              "    <tr>\n",
              "      <th>Kaiser Foundation Hospital ñ San Leandro</th>\n",
              "      <td>2</td>\n",
              "    </tr>\n",
              "    <tr>\n",
              "      <th>North Bay VacaValley Hospital</th>\n",
              "      <td>2</td>\n",
              "    </tr>\n",
              "    <tr>\n",
              "      <th>Community and Mission Hospital of Huntington Park ñ Slauson</th>\n",
              "      <td>1</td>\n",
              "    </tr>\n",
              "    <tr>\n",
              "      <th>Coast Plaza Hospital</th>\n",
              "      <td>1</td>\n",
              "    </tr>\n",
              "  </tbody>\n",
              "</table>\n",
              "<p>396 rows × 1 columns</p>\n",
              "</div>"
            ],
            "text/plain": [
              "                                                    Hospital\n",
              "Garfield Medical Center                                    8\n",
              "John F. Kennedy Memorial Hospital                          8\n",
              "Barstow Community Hospital                                 8\n",
              "Long Beach Memorial Medical Center                         8\n",
              "Regional Medical of San Jose                               8\n",
              "...                                                      ...\n",
              "Hazel HawkiAs Expected Memorial Hospital                   2\n",
              "Kaiser Foundation Hospital ñ San Leandro                   2\n",
              "North Bay VacaValley Hospital                              2\n",
              "Community and Mission Hospital of Huntington Pa...         1\n",
              "Coast Plaza Hospital                                       1\n",
              "\n",
              "[396 rows x 1 columns]"
            ]
          },
          "metadata": {
            "tags": []
          },
          "execution_count": 70
        }
      ]
    },
    {
      "cell_type": "code",
      "metadata": {
        "id": "C37IcqhRvvrX",
        "colab_type": "code",
        "colab": {
          "base_uri": "https://localhost:8080/",
          "height": 255
        },
        "outputId": "c483f3e2-b853-4b89-ffcb-d8bbc452dc6c"
      },
      "source": [
        "df_group = df.groupby(['Year'])\n",
        "df_group.describe()"
      ],
      "execution_count": null,
      "outputs": [
        {
          "output_type": "execute_result",
          "data": {
            "text/html": [
              "<div>\n",
              "<style scoped>\n",
              "    .dataframe tbody tr th:only-of-type {\n",
              "        vertical-align: middle;\n",
              "    }\n",
              "\n",
              "    .dataframe tbody tr th {\n",
              "        vertical-align: top;\n",
              "    }\n",
              "\n",
              "    .dataframe thead tr th {\n",
              "        text-align: left;\n",
              "    }\n",
              "\n",
              "    .dataframe thead tr:last-of-type th {\n",
              "        text-align: right;\n",
              "    }\n",
              "</style>\n",
              "<table border=\"1\" class=\"dataframe\">\n",
              "  <thead>\n",
              "    <tr>\n",
              "      <th></th>\n",
              "      <th colspan=\"8\" halign=\"left\">Risk Adjusted Rate</th>\n",
              "      <th colspan=\"8\" halign=\"left\"># of Deaths/Readmissions</th>\n",
              "      <th colspan=\"8\" halign=\"left\"># of Cases</th>\n",
              "    </tr>\n",
              "    <tr>\n",
              "      <th></th>\n",
              "      <th>count</th>\n",
              "      <th>mean</th>\n",
              "      <th>std</th>\n",
              "      <th>min</th>\n",
              "      <th>25%</th>\n",
              "      <th>50%</th>\n",
              "      <th>75%</th>\n",
              "      <th>max</th>\n",
              "      <th>count</th>\n",
              "      <th>mean</th>\n",
              "      <th>std</th>\n",
              "      <th>min</th>\n",
              "      <th>25%</th>\n",
              "      <th>50%</th>\n",
              "      <th>75%</th>\n",
              "      <th>max</th>\n",
              "      <th>count</th>\n",
              "      <th>mean</th>\n",
              "      <th>std</th>\n",
              "      <th>min</th>\n",
              "      <th>25%</th>\n",
              "      <th>50%</th>\n",
              "      <th>75%</th>\n",
              "      <th>max</th>\n",
              "    </tr>\n",
              "    <tr>\n",
              "      <th>Year</th>\n",
              "      <th></th>\n",
              "      <th></th>\n",
              "      <th></th>\n",
              "      <th></th>\n",
              "      <th></th>\n",
              "      <th></th>\n",
              "      <th></th>\n",
              "      <th></th>\n",
              "      <th></th>\n",
              "      <th></th>\n",
              "      <th></th>\n",
              "      <th></th>\n",
              "      <th></th>\n",
              "      <th></th>\n",
              "      <th></th>\n",
              "      <th></th>\n",
              "      <th></th>\n",
              "      <th></th>\n",
              "      <th></th>\n",
              "      <th></th>\n",
              "      <th></th>\n",
              "      <th></th>\n",
              "      <th></th>\n",
              "      <th></th>\n",
              "    </tr>\n",
              "  </thead>\n",
              "  <tbody>\n",
              "    <tr>\n",
              "      <th>2011</th>\n",
              "      <td>552.0</td>\n",
              "      <td>11.616667</td>\n",
              "      <td>3.720010</td>\n",
              "      <td>0.0</td>\n",
              "      <td>9.3175</td>\n",
              "      <td>11.495</td>\n",
              "      <td>13.7425</td>\n",
              "      <td>26.14</td>\n",
              "      <td>552.0</td>\n",
              "      <td>57.490942</td>\n",
              "      <td>479.090317</td>\n",
              "      <td>0.0</td>\n",
              "      <td>12.0</td>\n",
              "      <td>23.5</td>\n",
              "      <td>41.0</td>\n",
              "      <td>8527.0</td>\n",
              "      <td>552.0</td>\n",
              "      <td>493.835145</td>\n",
              "      <td>4104.476271</td>\n",
              "      <td>30.0</td>\n",
              "      <td>103.75</td>\n",
              "      <td>200.0</td>\n",
              "      <td>361.50</td>\n",
              "      <td>70213.0</td>\n",
              "    </tr>\n",
              "    <tr>\n",
              "      <th>2012</th>\n",
              "      <td>547.0</td>\n",
              "      <td>11.274936</td>\n",
              "      <td>3.623153</td>\n",
              "      <td>0.0</td>\n",
              "      <td>9.1250</td>\n",
              "      <td>11.270</td>\n",
              "      <td>13.4500</td>\n",
              "      <td>27.65</td>\n",
              "      <td>547.0</td>\n",
              "      <td>56.934186</td>\n",
              "      <td>472.295070</td>\n",
              "      <td>0.0</td>\n",
              "      <td>11.0</td>\n",
              "      <td>23.0</td>\n",
              "      <td>42.0</td>\n",
              "      <td>8305.0</td>\n",
              "      <td>547.0</td>\n",
              "      <td>500.367459</td>\n",
              "      <td>4140.596899</td>\n",
              "      <td>30.0</td>\n",
              "      <td>103.50</td>\n",
              "      <td>209.0</td>\n",
              "      <td>374.00</td>\n",
              "      <td>70447.0</td>\n",
              "    </tr>\n",
              "    <tr>\n",
              "      <th>2013</th>\n",
              "      <td>545.0</td>\n",
              "      <td>10.846477</td>\n",
              "      <td>3.581650</td>\n",
              "      <td>0.0</td>\n",
              "      <td>8.8100</td>\n",
              "      <td>10.820</td>\n",
              "      <td>12.8800</td>\n",
              "      <td>28.68</td>\n",
              "      <td>545.0</td>\n",
              "      <td>286.249541</td>\n",
              "      <td>488.463144</td>\n",
              "      <td>30.0</td>\n",
              "      <td>102.0</td>\n",
              "      <td>213.0</td>\n",
              "      <td>375.0</td>\n",
              "      <td>8055.0</td>\n",
              "      <td>545.0</td>\n",
              "      <td>288.341284</td>\n",
              "      <td>4295.496152</td>\n",
              "      <td>0.0</td>\n",
              "      <td>10.00</td>\n",
              "      <td>23.0</td>\n",
              "      <td>42.00</td>\n",
              "      <td>73982.0</td>\n",
              "    </tr>\n",
              "    <tr>\n",
              "      <th>2014</th>\n",
              "      <td>534.0</td>\n",
              "      <td>10.865393</td>\n",
              "      <td>3.528105</td>\n",
              "      <td>0.0</td>\n",
              "      <td>8.7125</td>\n",
              "      <td>10.735</td>\n",
              "      <td>12.9325</td>\n",
              "      <td>29.72</td>\n",
              "      <td>534.0</td>\n",
              "      <td>51.601124</td>\n",
              "      <td>423.233196</td>\n",
              "      <td>0.0</td>\n",
              "      <td>10.0</td>\n",
              "      <td>20.5</td>\n",
              "      <td>38.0</td>\n",
              "      <td>7394.0</td>\n",
              "      <td>534.0</td>\n",
              "      <td>478.558052</td>\n",
              "      <td>3917.728811</td>\n",
              "      <td>30.0</td>\n",
              "      <td>98.00</td>\n",
              "      <td>189.5</td>\n",
              "      <td>332.75</td>\n",
              "      <td>65789.0</td>\n",
              "    </tr>\n",
              "  </tbody>\n",
              "</table>\n",
              "</div>"
            ],
            "text/plain": [
              "     Risk Adjusted Rate                       ... # of Cases                 \n",
              "                  count       mean       std  ...        50%     75%      max\n",
              "Year                                          ...                            \n",
              "2011              552.0  11.616667  3.720010  ...      200.0  361.50  70213.0\n",
              "2012              547.0  11.274936  3.623153  ...      209.0  374.00  70447.0\n",
              "2013              545.0  10.846477  3.581650  ...       23.0   42.00  73982.0\n",
              "2014              534.0  10.865393  3.528105  ...      189.5  332.75  65789.0\n",
              "\n",
              "[4 rows x 24 columns]"
            ]
          },
          "metadata": {
            "tags": []
          },
          "execution_count": 95
        }
      ]
    },
    {
      "cell_type": "code",
      "metadata": {
        "id": "d_LO4FbXy3GC",
        "colab_type": "code",
        "colab": {
          "base_uri": "https://localhost:8080/",
          "height": 235
        },
        "outputId": "20cb2e25-685a-4f9a-d735-c3e37f644017"
      },
      "source": [
        "df_county = df \n",
        "df_county = df[df['County'] == 'AAAA']\n",
        "df_county"
      ],
      "execution_count": null,
      "outputs": [
        {
          "output_type": "execute_result",
          "data": {
            "text/html": [
              "<div>\n",
              "<style scoped>\n",
              "    .dataframe tbody tr th:only-of-type {\n",
              "        vertical-align: middle;\n",
              "    }\n",
              "\n",
              "    .dataframe tbody tr th {\n",
              "        vertical-align: top;\n",
              "    }\n",
              "\n",
              "    .dataframe thead th {\n",
              "        text-align: right;\n",
              "    }\n",
              "</style>\n",
              "<table border=\"1\" class=\"dataframe\">\n",
              "  <thead>\n",
              "    <tr style=\"text-align: right;\">\n",
              "      <th></th>\n",
              "      <th>Year</th>\n",
              "      <th>County</th>\n",
              "      <th>Hospital</th>\n",
              "      <th>OSHPDID</th>\n",
              "      <th>Measure</th>\n",
              "      <th>Risk Adjusted Rate</th>\n",
              "      <th># of Deaths/Readmissions</th>\n",
              "      <th># of Cases</th>\n",
              "      <th>Hospital Ratings</th>\n",
              "      <th>Location 1</th>\n",
              "    </tr>\n",
              "  </thead>\n",
              "  <tbody>\n",
              "    <tr>\n",
              "      <th>555</th>\n",
              "      <td>2012</td>\n",
              "      <td>AAAA</td>\n",
              "      <td>Statewide</td>\n",
              "      <td>NaN</td>\n",
              "      <td>30-day Mortality</td>\n",
              "      <td>10.42</td>\n",
              "      <td>7340.0</td>\n",
              "      <td>70447.0</td>\n",
              "      <td>NaN</td>\n",
              "      <td>NaN</td>\n",
              "    </tr>\n",
              "    <tr>\n",
              "      <th>556</th>\n",
              "      <td>2012</td>\n",
              "      <td>AAAA</td>\n",
              "      <td>Statewide</td>\n",
              "      <td>NaN</td>\n",
              "      <td>30-day Readmission</td>\n",
              "      <td>12.40</td>\n",
              "      <td>8305.0</td>\n",
              "      <td>66961.0</td>\n",
              "      <td>NaN</td>\n",
              "      <td>NaN</td>\n",
              "    </tr>\n",
              "    <tr>\n",
              "      <th>1105</th>\n",
              "      <td>2013</td>\n",
              "      <td>AAAA</td>\n",
              "      <td>Statewide</td>\n",
              "      <td>.</td>\n",
              "      <td>30-day Mortality</td>\n",
              "      <td>9.95</td>\n",
              "      <td>7364.0</td>\n",
              "      <td>73982.0</td>\n",
              "      <td>NaN</td>\n",
              "      <td>NaN</td>\n",
              "    </tr>\n",
              "    <tr>\n",
              "      <th>1106</th>\n",
              "      <td>2013</td>\n",
              "      <td>AAAA</td>\n",
              "      <td>Statewide</td>\n",
              "      <td>.</td>\n",
              "      <td>30-day Readmission</td>\n",
              "      <td>11.87</td>\n",
              "      <td>8055.0</td>\n",
              "      <td>67888.0</td>\n",
              "      <td>NaN</td>\n",
              "      <td>NaN</td>\n",
              "    </tr>\n",
              "    <tr>\n",
              "      <th>1654</th>\n",
              "      <td>2014</td>\n",
              "      <td>AAAA</td>\n",
              "      <td>Statewide</td>\n",
              "      <td>.</td>\n",
              "      <td>30-day Mortality</td>\n",
              "      <td>9.81</td>\n",
              "      <td>6454.0</td>\n",
              "      <td>65789.0</td>\n",
              "      <td>NaN</td>\n",
              "      <td>NaN</td>\n",
              "    </tr>\n",
              "    <tr>\n",
              "      <th>1655</th>\n",
              "      <td>2014</td>\n",
              "      <td>AAAA</td>\n",
              "      <td>Statewide</td>\n",
              "      <td>.</td>\n",
              "      <td>30-day Readmission</td>\n",
              "      <td>11.80</td>\n",
              "      <td>7394.0</td>\n",
              "      <td>62681.0</td>\n",
              "      <td>NaN</td>\n",
              "      <td>NaN</td>\n",
              "    </tr>\n",
              "  </tbody>\n",
              "</table>\n",
              "</div>"
            ],
            "text/plain": [
              "      Year County   Hospital  ... # of Cases Hospital Ratings  Location 1\n",
              "555   2012   AAAA  Statewide  ...    70447.0              NaN         NaN\n",
              "556   2012   AAAA  Statewide  ...    66961.0              NaN         NaN\n",
              "1105  2013   AAAA  Statewide  ...    73982.0              NaN         NaN\n",
              "1106  2013   AAAA  Statewide  ...    67888.0              NaN         NaN\n",
              "1654  2014   AAAA  Statewide  ...    65789.0              NaN         NaN\n",
              "1655  2014   AAAA  Statewide  ...    62681.0              NaN         NaN\n",
              "\n",
              "[6 rows x 10 columns]"
            ]
          },
          "metadata": {
            "tags": []
          },
          "execution_count": 100
        }
      ]
    },
    {
      "cell_type": "code",
      "metadata": {
        "id": "hGHiVlaozfRq",
        "colab_type": "code",
        "colab": {}
      },
      "source": [
        "#df \n",
        "# 1105 73982.0 7364.0\n",
        "#1106 67888.0 8055.0\n",
        "# deaths/readmission -> # cases \n",
        "\n",
        "# # of Cases'\n",
        "\n",
        "#df.iloc[1105, 6] = \n",
        "\n",
        "df.iloc[1105, df.columns.get_loc('# of Deaths/Readmissions')] = 7364.0\n",
        "df.iloc[1105, df.columns.get_loc('# of Cases')] = 73982.0\n",
        "\n",
        "df.iloc[1106, df.columns.get_loc('# of Deaths/Readmissions')] = 8055.0\n",
        "df.iloc[1106, df.columns.get_loc('# of Cases')] = 67888.0\n"
      ],
      "execution_count": null,
      "outputs": []
    },
    {
      "cell_type": "code",
      "metadata": {
        "id": "UOgvQjTK1oLx",
        "colab_type": "code",
        "colab": {
          "base_uri": "https://localhost:8080/",
          "height": 255
        },
        "outputId": "fefed399-6aca-4734-efd2-c5d6b7ff8c60"
      },
      "source": [
        ""
      ],
      "execution_count": null,
      "outputs": [
        {
          "output_type": "execute_result",
          "data": {
            "text/html": [
              "<div>\n",
              "<style scoped>\n",
              "    .dataframe tbody tr th:only-of-type {\n",
              "        vertical-align: middle;\n",
              "    }\n",
              "\n",
              "    .dataframe tbody tr th {\n",
              "        vertical-align: top;\n",
              "    }\n",
              "\n",
              "    .dataframe thead tr th {\n",
              "        text-align: left;\n",
              "    }\n",
              "\n",
              "    .dataframe thead tr:last-of-type th {\n",
              "        text-align: right;\n",
              "    }\n",
              "</style>\n",
              "<table border=\"1\" class=\"dataframe\">\n",
              "  <thead>\n",
              "    <tr>\n",
              "      <th></th>\n",
              "      <th colspan=\"8\" halign=\"left\">Risk Adjusted Rate</th>\n",
              "      <th colspan=\"8\" halign=\"left\"># of Deaths/Readmissions</th>\n",
              "      <th colspan=\"8\" halign=\"left\"># of Cases</th>\n",
              "    </tr>\n",
              "    <tr>\n",
              "      <th></th>\n",
              "      <th>count</th>\n",
              "      <th>mean</th>\n",
              "      <th>std</th>\n",
              "      <th>min</th>\n",
              "      <th>25%</th>\n",
              "      <th>50%</th>\n",
              "      <th>75%</th>\n",
              "      <th>max</th>\n",
              "      <th>count</th>\n",
              "      <th>mean</th>\n",
              "      <th>std</th>\n",
              "      <th>min</th>\n",
              "      <th>25%</th>\n",
              "      <th>50%</th>\n",
              "      <th>75%</th>\n",
              "      <th>max</th>\n",
              "      <th>count</th>\n",
              "      <th>mean</th>\n",
              "      <th>std</th>\n",
              "      <th>min</th>\n",
              "      <th>25%</th>\n",
              "      <th>50%</th>\n",
              "      <th>75%</th>\n",
              "      <th>max</th>\n",
              "    </tr>\n",
              "    <tr>\n",
              "      <th>Year</th>\n",
              "      <th></th>\n",
              "      <th></th>\n",
              "      <th></th>\n",
              "      <th></th>\n",
              "      <th></th>\n",
              "      <th></th>\n",
              "      <th></th>\n",
              "      <th></th>\n",
              "      <th></th>\n",
              "      <th></th>\n",
              "      <th></th>\n",
              "      <th></th>\n",
              "      <th></th>\n",
              "      <th></th>\n",
              "      <th></th>\n",
              "      <th></th>\n",
              "      <th></th>\n",
              "      <th></th>\n",
              "      <th></th>\n",
              "      <th></th>\n",
              "      <th></th>\n",
              "      <th></th>\n",
              "      <th></th>\n",
              "      <th></th>\n",
              "    </tr>\n",
              "  </thead>\n",
              "  <tbody>\n",
              "    <tr>\n",
              "      <th>2011</th>\n",
              "      <td>552.0</td>\n",
              "      <td>11.616667</td>\n",
              "      <td>3.720010</td>\n",
              "      <td>0.0</td>\n",
              "      <td>9.3175</td>\n",
              "      <td>11.495</td>\n",
              "      <td>13.7425</td>\n",
              "      <td>26.14</td>\n",
              "      <td>552.0</td>\n",
              "      <td>57.490942</td>\n",
              "      <td>479.090317</td>\n",
              "      <td>0.0</td>\n",
              "      <td>12.0</td>\n",
              "      <td>23.5</td>\n",
              "      <td>41.0</td>\n",
              "      <td>8527.0</td>\n",
              "      <td>552.0</td>\n",
              "      <td>493.835145</td>\n",
              "      <td>4104.476271</td>\n",
              "      <td>30.0</td>\n",
              "      <td>103.75</td>\n",
              "      <td>200.0</td>\n",
              "      <td>361.50</td>\n",
              "      <td>70213.0</td>\n",
              "    </tr>\n",
              "    <tr>\n",
              "      <th>2012</th>\n",
              "      <td>547.0</td>\n",
              "      <td>11.274936</td>\n",
              "      <td>3.623153</td>\n",
              "      <td>0.0</td>\n",
              "      <td>9.1250</td>\n",
              "      <td>11.270</td>\n",
              "      <td>13.4500</td>\n",
              "      <td>27.65</td>\n",
              "      <td>547.0</td>\n",
              "      <td>56.934186</td>\n",
              "      <td>472.295070</td>\n",
              "      <td>0.0</td>\n",
              "      <td>11.0</td>\n",
              "      <td>23.0</td>\n",
              "      <td>42.0</td>\n",
              "      <td>8305.0</td>\n",
              "      <td>547.0</td>\n",
              "      <td>500.367459</td>\n",
              "      <td>4140.596899</td>\n",
              "      <td>30.0</td>\n",
              "      <td>103.50</td>\n",
              "      <td>209.0</td>\n",
              "      <td>374.00</td>\n",
              "      <td>70447.0</td>\n",
              "    </tr>\n",
              "    <tr>\n",
              "      <th>2013</th>\n",
              "      <td>545.0</td>\n",
              "      <td>10.846477</td>\n",
              "      <td>3.581650</td>\n",
              "      <td>0.0</td>\n",
              "      <td>8.8100</td>\n",
              "      <td>10.820</td>\n",
              "      <td>12.8800</td>\n",
              "      <td>28.68</td>\n",
              "      <td>545.0</td>\n",
              "      <td>286.249541</td>\n",
              "      <td>488.463144</td>\n",
              "      <td>30.0</td>\n",
              "      <td>102.0</td>\n",
              "      <td>213.0</td>\n",
              "      <td>375.0</td>\n",
              "      <td>8055.0</td>\n",
              "      <td>545.0</td>\n",
              "      <td>288.341284</td>\n",
              "      <td>4295.496152</td>\n",
              "      <td>0.0</td>\n",
              "      <td>10.00</td>\n",
              "      <td>23.0</td>\n",
              "      <td>42.00</td>\n",
              "      <td>73982.0</td>\n",
              "    </tr>\n",
              "    <tr>\n",
              "      <th>2014</th>\n",
              "      <td>534.0</td>\n",
              "      <td>10.865393</td>\n",
              "      <td>3.528105</td>\n",
              "      <td>0.0</td>\n",
              "      <td>8.7125</td>\n",
              "      <td>10.735</td>\n",
              "      <td>12.9325</td>\n",
              "      <td>29.72</td>\n",
              "      <td>534.0</td>\n",
              "      <td>51.601124</td>\n",
              "      <td>423.233196</td>\n",
              "      <td>0.0</td>\n",
              "      <td>10.0</td>\n",
              "      <td>20.5</td>\n",
              "      <td>38.0</td>\n",
              "      <td>7394.0</td>\n",
              "      <td>534.0</td>\n",
              "      <td>478.558052</td>\n",
              "      <td>3917.728811</td>\n",
              "      <td>30.0</td>\n",
              "      <td>98.00</td>\n",
              "      <td>189.5</td>\n",
              "      <td>332.75</td>\n",
              "      <td>65789.0</td>\n",
              "    </tr>\n",
              "  </tbody>\n",
              "</table>\n",
              "</div>"
            ],
            "text/plain": [
              "     Risk Adjusted Rate                       ... # of Cases                 \n",
              "                  count       mean       std  ...        50%     75%      max\n",
              "Year                                          ...                            \n",
              "2011              552.0  11.616667  3.720010  ...      200.0  361.50  70213.0\n",
              "2012              547.0  11.274936  3.623153  ...      209.0  374.00  70447.0\n",
              "2013              545.0  10.846477  3.581650  ...       23.0   42.00  73982.0\n",
              "2014              534.0  10.865393  3.528105  ...      189.5  332.75  65789.0\n",
              "\n",
              "[4 rows x 24 columns]"
            ]
          },
          "metadata": {
            "tags": []
          },
          "execution_count": 98
        }
      ]
    },
    {
      "cell_type": "code",
      "metadata": {
        "id": "PnwOE4ZI2Fcl",
        "colab_type": "code",
        "colab": {
          "base_uri": "https://localhost:8080/",
          "height": 80
        },
        "outputId": "40d518d0-8f71-41ca-8044-aee0f2dadafe"
      },
      "source": [
        "df_2013 = df[df['Year'] == '2013']\n",
        "#df_2013 = df_2013['# of Deaths/Readmissions']\n",
        "#df_2013.describe()\n",
        "df_2013[df_2013['# of Deaths/Readmissions'] > 8000]\n"
      ],
      "execution_count": null,
      "outputs": [
        {
          "output_type": "execute_result",
          "data": {
            "text/html": [
              "<div>\n",
              "<style scoped>\n",
              "    .dataframe tbody tr th:only-of-type {\n",
              "        vertical-align: middle;\n",
              "    }\n",
              "\n",
              "    .dataframe tbody tr th {\n",
              "        vertical-align: top;\n",
              "    }\n",
              "\n",
              "    .dataframe thead th {\n",
              "        text-align: right;\n",
              "    }\n",
              "</style>\n",
              "<table border=\"1\" class=\"dataframe\">\n",
              "  <thead>\n",
              "    <tr style=\"text-align: right;\">\n",
              "      <th></th>\n",
              "      <th>Year</th>\n",
              "      <th>County</th>\n",
              "      <th>Hospital</th>\n",
              "      <th>OSHPDID</th>\n",
              "      <th>Measure</th>\n",
              "      <th>Risk Adjusted Rate</th>\n",
              "      <th># of Deaths/Readmissions</th>\n",
              "      <th># of Cases</th>\n",
              "      <th>Hospital Ratings</th>\n",
              "      <th>Location 1</th>\n",
              "    </tr>\n",
              "  </thead>\n",
              "  <tbody>\n",
              "    <tr>\n",
              "      <th>1106</th>\n",
              "      <td>2013</td>\n",
              "      <td>AAAA</td>\n",
              "      <td>Statewide</td>\n",
              "      <td>.</td>\n",
              "      <td>30-day Readmission</td>\n",
              "      <td>11.87</td>\n",
              "      <td>8055.0</td>\n",
              "      <td>67888.0</td>\n",
              "      <td>NaN</td>\n",
              "      <td>NaN</td>\n",
              "    </tr>\n",
              "  </tbody>\n",
              "</table>\n",
              "</div>"
            ],
            "text/plain": [
              "      Year County   Hospital  ... # of Cases Hospital Ratings  Location 1\n",
              "1106  2013   AAAA  Statewide  ...    67888.0              NaN         NaN\n",
              "\n",
              "[1 rows x 10 columns]"
            ]
          },
          "metadata": {
            "tags": []
          },
          "execution_count": 115
        }
      ]
    },
    {
      "cell_type": "code",
      "metadata": {
        "id": "1wNJy8an3txP",
        "colab_type": "code",
        "colab": {
          "base_uri": "https://localhost:8080/",
          "height": 350
        },
        "outputId": "8d67da48-f143-43f9-9e1f-d52541df42db"
      },
      "source": [
        "import seaborn as sns\n",
        "sns.boxplot(x=df_2013['# of Deaths/Readmissions'])"
      ],
      "execution_count": null,
      "outputs": [
        {
          "output_type": "stream",
          "text": [
            "/usr/local/lib/python3.6/dist-packages/statsmodels/tools/_testing.py:19: FutureWarning: pandas.util.testing is deprecated. Use the functions in the public API at pandas.testing instead.\n",
            "  import pandas.util.testing as tm\n"
          ],
          "name": "stderr"
        },
        {
          "output_type": "execute_result",
          "data": {
            "text/plain": [
              "<matplotlib.axes._subplots.AxesSubplot at 0x7f892b739940>"
            ]
          },
          "metadata": {
            "tags": []
          },
          "execution_count": 112
        },
        {
          "output_type": "display_data",
          "data": {
            "image/png": "[encoded data removed]",
            "text/plain": [
              "<Figure size 432x288 with 1 Axes>"
            ]
          },
          "metadata": {
            "tags": [],
            "needs_background": "light"
          }
        }
      ]
    },
    {
      "cell_type": "code",
      "metadata": {
        "id": "HMVnWUpB4GJJ",
        "colab_type": "code",
        "colab": {}
      },
      "source": [
        "Q1 = df.quantile(0.10)\n",
        "Q3 = df.quantile(0.90)\n",
        "IQR = Q3 - Q1\n",
        "df_2013 = df_2013[~((df_2013 < (Q1 - 1.5 * IQR)) |(df_2013 > (Q3 + 1.5 * IQR))).any(axis=1)]"
      ],
      "execution_count": null,
      "outputs": []
    },
    {
      "cell_type": "code",
      "metadata": {
        "id": "X9QPCTrC4NQB",
        "colab_type": "code",
        "colab": {
          "base_uri": "https://localhost:8080/",
          "height": 296
        },
        "outputId": "9b427dfa-35a1-483f-b41b-d9d34f5641f7"
      },
      "source": [
        "import seaborn as sns\n",
        "sns.boxplot(x=df_2013['# of Deaths/Readmissions'])"
      ],
      "execution_count": null,
      "outputs": [
        {
          "output_type": "execute_result",
          "data": {
            "text/plain": [
              "<matplotlib.axes._subplots.AxesSubplot at 0x7f8929f09940>"
            ]
          },
          "metadata": {
            "tags": []
          },
          "execution_count": 119
        },
        {
          "output_type": "display_data",
          "data": {
            "image/png": "[encoded data removed]",
            "text/plain": [
              "<Figure size 432x288 with 1 Axes>"
            ]
          },
          "metadata": {
            "tags": [],
            "needs_background": "light"
          }
        }
      ]
    }
  ]
}